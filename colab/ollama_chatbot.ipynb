{
 "cells": [
  {
   "cell_type": "markdown",
   "id": "94681e3d",
   "metadata": {},
   "source": [
    "# 🗪 Multimodal Web Chatbot for Ollama\n",
    "A web based AI Chatbot for Ollama made on Gradio (Python) which supports Voice input to interact with ollama LLM models. If you have a vision capable LLM like `llava`, you can even upload an image with your query. This is offline and private AI chatbot."
   ]
  }
 ],
 "metadata": {
  "language_info": {
   "name": "python"
  }
 },
 "nbformat": 4,
 "nbformat_minor": 5
}
